{
  "nbformat": 4,
  "nbformat_minor": 0,
  "metadata": {
    "colab": {
      "provenance": [],
      "authorship_tag": "ABX9TyMe1TrtIXBdfxxCtwG5BPYy",
      "include_colab_link": true
    },
    "kernelspec": {
      "name": "python3",
      "display_name": "Python 3"
    },
    "language_info": {
      "name": "python"
    }
  },
  "cells": [
    {
      "cell_type": "markdown",
      "metadata": {
        "id": "view-in-github",
        "colab_type": "text"
      },
      "source": [
        "<a href=\"https://colab.research.google.com/github/oneoftwo/CBE591_final_project/blob/main/assignment_1/test.ipynb\" target=\"_parent\"><img src=\"https://colab.research.google.com/assets/colab-badge.svg\" alt=\"Open In Colab\"/></a>"
      ]
    },
    {
      "cell_type": "code",
      "execution_count": 44,
      "metadata": {
        "colab": {
          "base_uri": "https://localhost:8080/"
        },
        "id": "04cNKYn4m-vI",
        "outputId": "420ade87-bbd1-4ec1-a349-e08945644854"
      },
      "outputs": [
        {
          "output_type": "stream",
          "name": "stdout",
          "text": [
            "Cloning into 'CH453_AI_chemistry'...\n",
            "remote: Enumerating objects: 18, done.\u001b[K\n",
            "remote: Counting objects:   5% (1/18)\u001b[K\rremote: Counting objects:  11% (2/18)\u001b[K\rremote: Counting objects:  16% (3/18)\u001b[K\rremote: Counting objects:  22% (4/18)\u001b[K\rremote: Counting objects:  27% (5/18)\u001b[K\rremote: Counting objects:  33% (6/18)\u001b[K\rremote: Counting objects:  38% (7/18)\u001b[K\rremote: Counting objects:  44% (8/18)\u001b[K\rremote: Counting objects:  50% (9/18)\u001b[K\rremote: Counting objects:  55% (10/18)\u001b[K\rremote: Counting objects:  61% (11/18)\u001b[K\rremote: Counting objects:  66% (12/18)\u001b[K\rremote: Counting objects:  72% (13/18)\u001b[K\rremote: Counting objects:  77% (14/18)\u001b[K\rremote: Counting objects:  83% (15/18)\u001b[K\rremote: Counting objects:  88% (16/18)\u001b[K\rremote: Counting objects:  94% (17/18)\u001b[K\rremote: Counting objects: 100% (18/18)\u001b[K\rremote: Counting objects: 100% (18/18), done.\u001b[K\n",
            "remote: Compressing objects:   7% (1/13)\u001b[K\rremote: Compressing objects:  15% (2/13)\u001b[K\rremote: Compressing objects:  23% (3/13)\u001b[K\rremote: Compressing objects:  30% (4/13)\u001b[K\rremote: Compressing objects:  38% (5/13)\u001b[K\rremote: Compressing objects:  46% (6/13)\u001b[K\rremote: Compressing objects:  53% (7/13)\u001b[K\rremote: Compressing objects:  61% (8/13)\u001b[K\rremote: Compressing objects:  69% (9/13)\u001b[K\rremote: Compressing objects:  76% (10/13)\u001b[K\rremote: Compressing objects:  84% (11/13)\u001b[K\rremote: Compressing objects:  92% (12/13)\u001b[K\rremote: Compressing objects: 100% (13/13)\u001b[K\rremote: Compressing objects: 100% (13/13), done.\u001b[K\n",
            "remote: Total 18 (delta 3), reused 0 (delta 0), pack-reused 0\u001b[K\n",
            "Receiving objects:   5% (1/18)\rReceiving objects:  11% (2/18)\rReceiving objects:  16% (3/18)\rReceiving objects:  22% (4/18)\rReceiving objects:  27% (5/18)\rReceiving objects:  33% (6/18)\rReceiving objects:  38% (7/18)\rReceiving objects:  44% (8/18)\rReceiving objects:  50% (9/18)\rReceiving objects:  55% (10/18)\rReceiving objects:  61% (11/18)\rReceiving objects:  66% (12/18)\rReceiving objects:  72% (13/18)\rReceiving objects:  77% (14/18)\rReceiving objects:  83% (15/18)\rReceiving objects:  88% (16/18)\rReceiving objects:  94% (17/18)\rReceiving objects: 100% (18/18)\rReceiving objects: 100% (18/18), 21.70 KiB | 21.70 MiB/s, done.\n",
            "Resolving deltas:   0% (0/3)\rResolving deltas:  33% (1/3)\rResolving deltas:  66% (2/3)\rResolving deltas: 100% (3/3)\rResolving deltas: 100% (3/3), done.\n",
            "CH453_AI_chemistry  test.txt\n"
          ]
        }
      ],
      "source": [
        "!rm -rf CH453*\n",
        "!git clone https://github.com/oneoftwo/CH453_AI_chemistry/\n",
        "!ls\n",
        "!mv ./CH453_AI_chemistry/assignment_1/* ./"
      ]
    },
    {
      "cell_type": "code",
      "source": [],
      "metadata": {
        "id": "dZiBDPkCoyl-"
      },
      "execution_count": null,
      "outputs": []
    }
  ]
}